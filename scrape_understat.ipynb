{
 "cells": [
  {
   "cell_type": "code",
   "execution_count": 10,
   "id": "9c3339bb-e673-468a-871b-f1136d0ca073",
   "metadata": {},
   "outputs": [],
   "source": [
    "!pip install understatapi pandas --quiet"
   ]
  },
  {
   "cell_type": "code",
   "execution_count": 18,
   "id": "3c985293-4704-4061-a679-f68bb52015ec",
   "metadata": {},
   "outputs": [],
   "source": [
    "import pandas as pd\n",
    "import understatapi\n",
    "from datetime import datetime\n",
    "client=understatapi.UnderstatClient()"
   ]
  },
  {
   "cell_type": "code",
   "execution_count": 19,
   "id": "a9e6ecd1-8078-4330-80e6-dc9a10f635be",
   "metadata": {},
   "outputs": [],
   "source": [
    "player_data=client.player(player='2371').get_shot_data()"
   ]
  },
  {
   "cell_type": "code",
   "execution_count": 25,
   "id": "1b473483-2d14-4b15-ad06-571cebb5ce1e",
   "metadata": {},
   "outputs": [
    {
     "name": "stdout",
     "output_type": "stream",
     "text": [
      "Original date column data type: object\n",
      "Sample dates before conversion: 0    2014-08-25 19:00:00\n",
      "1    2014-08-25 19:00:00\n",
      "2    2014-08-25 19:00:00\n",
      "3    2014-09-13 19:00:00\n",
      "4    2014-09-13 19:00:00\n",
      "Name: date, dtype: object\n",
      "Filtered DataFrame sample:\n",
      "        id minute       result                   X                   Y  \\\n",
      "108  40792     62  MissedShots  0.7219999694824218  0.3039999961853027   \n",
      "109  41104     12   ShotOnPost               0.825                0.46   \n",
      "110  41110     24    SavedShot   0.899000015258789               0.825   \n",
      "111  41113     35  MissedShots  0.9269999694824219               0.545   \n",
      "112  41121     61  MissedShots               0.775   0.539000015258789   \n",
      "\n",
      "                       xG             player h_a player_id       situation  \\\n",
      "108  0.008944050408899784  Cristiano Ronaldo   a      2371        OpenPlay   \n",
      "109   0.06344190239906311  Cristiano Ronaldo   h      2371        OpenPlay   \n",
      "110   0.06562689691781998  Cristiano Ronaldo   h      2371  DirectFreekick   \n",
      "111    0.1400890052318573  Cristiano Ronaldo   h      2371        OpenPlay   \n",
      "112   0.09664960205554962  Cristiano Ronaldo   h      2371  DirectFreekick   \n",
      "\n",
      "    season   shotType match_id           h_team               a_team h_goals  \\\n",
      "108   2014   LeftFoot     5609  Atletico Madrid          Real Madrid       4   \n",
      "109   2014   LeftFoot     5620      Real Madrid  Deportivo La Coruna       2   \n",
      "110   2014  RightFoot     5620      Real Madrid  Deportivo La Coruna       2   \n",
      "111   2014       Head     5620      Real Madrid  Deportivo La Coruna       2   \n",
      "112   2014  RightFoot     5620      Real Madrid  Deportivo La Coruna       2   \n",
      "\n",
      "    a_goals                date  player_assisted lastAction  \n",
      "108       0 2015-02-07 15:00:00  Daniel Carvajal       Pass  \n",
      "109       0 2015-02-14 17:00:00      Gareth Bale       Pass  \n",
      "110       0 2015-02-14 17:00:00             None   Standard  \n",
      "111       0 2015-02-14 17:00:00      Gareth Bale      Cross  \n",
      "112       0 2015-02-14 17:00:00             None   Standard  \n"
     ]
    }
   ],
   "source": [
    "df=pd.DataFrame(player_data)\n",
    "# Check the initial format of the 'date' column\n",
    "print(\"Original date column data type:\", df['date'].dtype)\n",
    "print(\"Sample dates before conversion:\", df['date'].head())\n",
    "\n",
    "# Convert the 'date' column to datetime format\n",
    "df['date'] = pd.to_datetime(df['date'], errors='coerce')  # Coerce invalid dates to NaT\n",
    "\n",
    "# Filter the data for dates after February 5, 2015\n",
    "filtered_df = df[df['date'] > '2015-02-05']\n",
    "\n",
    "# Verify that the filtering worked\n",
    "print(\"Filtered DataFrame sample:\")\n",
    "print(filtered_df.head())\n",
    "\n"
   ]
  },
  {
   "cell_type": "code",
   "execution_count": 26,
   "id": "ea3aaebf-8700-4cbc-a406-87132fcb6772",
   "metadata": {},
   "outputs": [
    {
     "name": "stdout",
     "output_type": "stream",
     "text": [
      "Data saved to 'ronaldo_shots_after_2015.csv'\n"
     ]
    }
   ],
   "source": [
    "filtered_df.to_csv(\"ronaldo_shots_after_2015.csv\", index=False)\n",
    "print(\"Data saved to 'ronaldo_shots_after_2015.csv'\")"
   ]
  },
  {
   "cell_type": "code",
   "execution_count": null,
   "id": "7f0eceef-84d5-4abe-b281-41ea8df24ed2",
   "metadata": {},
   "outputs": [],
   "source": []
  }
 ],
 "metadata": {
  "kernelspec": {
   "display_name": "Python 3 (ipykernel)",
   "language": "python",
   "name": "python3"
  },
  "language_info": {
   "codemirror_mode": {
    "name": "ipython",
    "version": 3
   },
   "file_extension": ".py",
   "mimetype": "text/x-python",
   "name": "python",
   "nbconvert_exporter": "python",
   "pygments_lexer": "ipython3",
   "version": "3.11.7"
  }
 },
 "nbformat": 4,
 "nbformat_minor": 5
}
